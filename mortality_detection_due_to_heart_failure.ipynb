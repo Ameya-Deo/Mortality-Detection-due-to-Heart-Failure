{
 "cells": [
  {
   "cell_type": "markdown",
   "id": "7c76d527",
   "metadata": {
    "id": "7c76d527"
   },
   "source": [
    "<h1 style = \"background:yellow;color:Blue;border:0;border-radius:3px;font-family:verdana\" > Project: Predicting mortality due to Heart Failure </h1>"
   ]
  },
  {
   "cell_type": "markdown",
   "id": "036753c5",
   "metadata": {
    "id": "036753c5"
   },
   "source": [
    "# Problem Statement:\n",
    "Cardiovascular diseases (CVDs) are the number 1 cause of death globally, taking an estimated 17.9 million lives each year, which accounts for 31% of all deaths worlwide. Heart failure is a common event caused by CVDs and this dataset contains 12 features that can be used to predict mortality by heart failure.\n",
    "\n",
    "What we will do, we will examine these features well, and we will eliminate the situations that will adversely affect our model.Then, we will try to make predictions on the 6 models mentioned below and compare their results."
   ]
  },
  {
   "cell_type": "markdown",
   "id": "mature-textbook",
   "metadata": {
    "id": "mature-textbook",
    "papermill": {
     "duration": 0.065872,
     "end_time": "2021-04-10T14:13:34.121663",
     "exception": false,
     "start_time": "2021-04-10T14:13:34.055791",
     "status": "completed"
    },
    "tags": []
   },
   "source": [
    "<h2 style = \"background:yellow;color:blue;border:0;border-radius:3px;font-family:verdana\" >Import Library </h2>"
   ]
  },
  {
   "cell_type": "code",
   "execution_count": null,
   "id": "documented-sharing",
   "metadata": {
    "_cell_guid": "b1076dfc-b9ad-4769-8c92-a6c4dae69d19",
    "_uuid": "8f2839f25d086af736a60e9eeb907d3b93b6e0e5",
    "execution": {
     "iopub.execute_input": "2021-04-10T14:13:34.264292Z",
     "iopub.status.busy": "2021-04-10T14:13:34.263205Z",
     "iopub.status.idle": "2021-04-10T14:13:36.523859Z",
     "shell.execute_reply": "2021-04-10T14:13:36.522908Z"
    },
    "id": "documented-sharing",
    "papermill": {
     "duration": 2.337594,
     "end_time": "2021-04-10T14:13:36.524085",
     "exception": false,
     "start_time": "2021-04-10T14:13:34.186491",
     "status": "completed"
    },
    "tags": []
   },
   "outputs": [],
   "source": [
    "import numpy as np \n",
    "import pandas as pd\n",
    "import seaborn as sns\n",
    "import matplotlib.pyplot as plt\n",
    "\n",
    "from sklearn.preprocessing import RobustScaler, StandardScaler\n",
    "from sklearn.metrics import mean_squared_error, confusion_matrix, accuracy_score, plot_confusion_matrix\n",
    "from sklearn.model_selection import train_test_split, StratifiedKFold, GridSearchCV\n",
    "from sklearn.linear_model import LogisticRegression\n",
    "from sklearn.ensemble import RandomForestClassifier, VotingClassifier\n",
    "from sklearn.svm import SVC\n",
    "from sklearn.tree import DecisionTreeClassifier\n",
    "from xgboost import XGBClassifier\n",
    "\n",
    "#warning\n",
    "import warnings\n",
    "warnings.filterwarnings('ignore')\n"
   ]
  },
  {
   "cell_type": "markdown",
   "id": "87fdfa3c",
   "metadata": {
    "id": "87fdfa3c"
   },
   "source": [
    "# Citation\n",
    "Davide Chicco, Giuseppe Jurman: Machine learning can predict survival of patients with heart failure from serum creatinine and ejection fraction alone. BMC Medical Informatics and Decision Making 20, 16 (2020). (Link: https://bmcmedinformdecismak.biomedcentral.com/articles/10.1186/s12911-020-1023-5#Sec2)"
   ]
  },
  {
   "cell_type": "markdown",
   "id": "instant-brook",
   "metadata": {
    "id": "instant-brook",
    "papermill": {
     "duration": 0.065845,
     "end_time": "2021-04-10T14:13:36.657523",
     "exception": false,
     "start_time": "2021-04-10T14:13:36.591678",
     "status": "completed"
    },
    "tags": []
   },
   "source": [
    "<a id = \"1\"></a>\n",
    "<h2 style = \"background:yellow;color:blue;border:0;border-radius:3px;font-family:verdana\">Load and Check Data </h2>"
   ]
  },
  {
   "cell_type": "code",
   "execution_count": null,
   "id": "rural-gauge",
   "metadata": {
    "execution": {
     "iopub.execute_input": "2021-04-10T14:13:36.794998Z",
     "iopub.status.busy": "2021-04-10T14:13:36.794111Z",
     "iopub.status.idle": "2021-04-10T14:13:36.809571Z",
     "shell.execute_reply": "2021-04-10T14:13:36.808913Z"
    },
    "id": "rural-gauge",
    "papermill": {
     "duration": 0.086638,
     "end_time": "2021-04-10T14:13:36.809717",
     "exception": false,
     "start_time": "2021-04-10T14:13:36.723079",
     "status": "completed"
    },
    "tags": []
   },
   "outputs": [],
   "source": [
    "data = pd.read_csv(\"Heart_Failure_DataSet.csv\")"
   ]
  },
  {
   "cell_type": "code",
   "execution_count": null,
   "id": "91a042e3",
   "metadata": {
    "colab": {
     "base_uri": "https://localhost:8080/"
    },
    "id": "91a042e3",
    "outputId": "f5087802-190f-42b5-ca24-007b40c36ab7"
   },
   "outputs": [],
   "source": [
    "data.info() "
   ]
  },
  {
   "cell_type": "code",
   "execution_count": null,
   "id": "7441ace4",
   "metadata": {
    "id": "7441ace4"
   },
   "outputs": [],
   "source": [
    "data.dropna(inplace=True)"
   ]
  },
  {
   "cell_type": "code",
   "execution_count": null,
   "id": "602ba61d",
   "metadata": {
    "colab": {
     "base_uri": "https://localhost:8080/"
    },
    "id": "602ba61d",
    "outputId": "65677d7c-c886-4faf-91e0-f17f7f9c660c"
   },
   "outputs": [],
   "source": [
    "data.info()"
   ]
  },
  {
   "cell_type": "code",
   "execution_count": null,
   "id": "d2383b11",
   "metadata": {
    "id": "d2383b11"
   },
   "outputs": [],
   "source": [
    "data['smoking']=data['smoking'].map({'YES':1,'NO':0})"
   ]
  },
  {
   "cell_type": "code",
   "execution_count": null,
   "id": "5aaee770",
   "metadata": {
    "colab": {
     "base_uri": "https://localhost:8080/",
     "height": 226
    },
    "id": "5aaee770",
    "outputId": "c256175f-e348-47e9-da44-b5078ac13e29"
   },
   "outputs": [],
   "source": [
    "data.head()"
   ]
  },
  {
   "cell_type": "code",
   "execution_count": null,
   "id": "fd40fc4c",
   "metadata": {
    "id": "fd40fc4c"
   },
   "outputs": [],
   "source": [
    "data['sex']=data['sex'].map({'MAN':1,'WOMAN':0})"
   ]
  },
  {
   "cell_type": "code",
   "execution_count": null,
   "id": "935fbf46",
   "metadata": {
    "colab": {
     "base_uri": "https://localhost:8080/"
    },
    "id": "935fbf46",
    "outputId": "53f9ee2a-fbcc-43fa-fa60-8e43979e2351"
   },
   "outputs": [],
   "source": [
    "data.head()\n",
    "data.isna().sum()"
   ]
  },
  {
   "cell_type": "code",
   "execution_count": null,
   "id": "prime-income",
   "metadata": {
    "colab": {
     "base_uri": "https://localhost:8080/"
    },
    "execution": {
     "iopub.execute_input": "2021-04-10T14:13:36.947796Z",
     "iopub.status.busy": "2021-04-10T14:13:36.945047Z",
     "iopub.status.idle": "2021-04-10T14:13:36.950521Z",
     "shell.execute_reply": "2021-04-10T14:13:36.951164Z"
    },
    "id": "prime-income",
    "outputId": "22082495-5b66-4645-d672-d36e3174290b",
    "papermill": {
     "duration": 0.075002,
     "end_time": "2021-04-10T14:13:36.951419",
     "exception": false,
     "start_time": "2021-04-10T14:13:36.876417",
     "status": "completed"
    },
    "tags": []
   },
   "outputs": [],
   "source": [
    "#The Columns\n",
    "print(\"Data Columns --> \",data.columns)"
   ]
  },
  {
   "cell_type": "code",
   "execution_count": null,
   "id": "imported-protein",
   "metadata": {
    "colab": {
     "base_uri": "https://localhost:8080/",
     "height": 226
    },
    "execution": {
     "iopub.execute_input": "2021-04-10T14:13:37.090766Z",
     "iopub.status.busy": "2021-04-10T14:13:37.090028Z",
     "iopub.status.idle": "2021-04-10T14:13:37.125790Z",
     "shell.execute_reply": "2021-04-10T14:13:37.126287Z"
    },
    "id": "imported-protein",
    "outputId": "d7167f47-ac64-42c4-e117-44abb249f434",
    "papermill": {
     "duration": 0.106362,
     "end_time": "2021-04-10T14:13:37.126476",
     "exception": false,
     "start_time": "2021-04-10T14:13:37.020114",
     "status": "completed"
    },
    "tags": []
   },
   "outputs": [],
   "source": [
    "data.head()"
   ]
  },
  {
   "cell_type": "code",
   "execution_count": null,
   "id": "clinical-manhattan",
   "metadata": {
    "colab": {
     "base_uri": "https://localhost:8080/",
     "height": 320
    },
    "execution": {
     "iopub.execute_input": "2021-04-10T14:13:37.264261Z",
     "iopub.status.busy": "2021-04-10T14:13:37.263570Z",
     "iopub.status.idle": "2021-04-10T14:13:37.321039Z",
     "shell.execute_reply": "2021-04-10T14:13:37.319662Z"
    },
    "id": "clinical-manhattan",
    "outputId": "1daa0e3f-767f-4758-ba0f-8e77cad4887d",
    "papermill": {
     "duration": 0.1272,
     "end_time": "2021-04-10T14:13:37.321229",
     "exception": false,
     "start_time": "2021-04-10T14:13:37.194029",
     "status": "completed"
    },
    "tags": []
   },
   "outputs": [],
   "source": [
    "desc = data.describe()\n",
    "desc"
   ]
  },
  {
   "cell_type": "code",
   "execution_count": null,
   "id": "sixth-egypt",
   "metadata": {
    "colab": {
     "base_uri": "https://localhost:8080/"
    },
    "execution": {
     "iopub.execute_input": "2021-04-10T14:13:37.466739Z",
     "iopub.status.busy": "2021-04-10T14:13:37.465785Z",
     "iopub.status.idle": "2021-04-10T14:13:37.469504Z",
     "shell.execute_reply": "2021-04-10T14:13:37.470095Z"
    },
    "id": "sixth-egypt",
    "outputId": "6e266d73-31f2-4ff9-81fe-f14e52fe022e",
    "papermill": {
     "duration": 0.081206,
     "end_time": "2021-04-10T14:13:37.470288",
     "exception": false,
     "start_time": "2021-04-10T14:13:37.389082",
     "status": "completed"
    },
    "tags": []
   },
   "outputs": [],
   "source": [
    "print(data.isna().sum())"
   ]
  },
  {
   "cell_type": "code",
   "execution_count": null,
   "id": "23324808",
   "metadata": {
    "id": "23324808"
   },
   "outputs": [],
   "source": [
    "data['time']=data['time'].astype('int64')"
   ]
  },
  {
   "cell_type": "code",
   "execution_count": null,
   "id": "9c90543a",
   "metadata": {
    "colab": {
     "base_uri": "https://localhost:8080/"
    },
    "id": "9c90543a",
    "outputId": "d97fc46b-13e3-4554-ae0b-b780c4eb2b82"
   },
   "outputs": [],
   "source": [
    "data.info()"
   ]
  },
  {
   "cell_type": "markdown",
   "id": "actual-chance",
   "metadata": {
    "id": "actual-chance",
    "papermill": {
     "duration": 0.068832,
     "end_time": "2021-04-10T14:13:37.609513",
     "exception": false,
     "start_time": "2021-04-10T14:13:37.540681",
     "status": "completed"
    },
    "tags": []
   },
   "source": [
    "<ul>\n",
    "    <li style = \"color:red\"> <p style = \"color:black;font-weight:bold\"> We have checked the columns in the data. No null data. </p>  </li>\n",
    "</ul>"
   ]
  },
  {
   "cell_type": "markdown",
   "id": "latest-vehicle",
   "metadata": {
    "id": "latest-vehicle",
    "papermill": {
     "duration": 0.069974,
     "end_time": "2021-04-10T14:13:37.751808",
     "exception": false,
     "start_time": "2021-04-10T14:13:37.681834",
     "status": "completed"
    },
    "tags": []
   },
   "source": [
    "<a id = \"2\"></a>\n",
    "<h2 style = \"background:yellow;color:blue;border:0;border-radius:3px;font-family:verdana\">Variable Description </h2>"
   ]
  },
  {
   "cell_type": "markdown",
   "id": "fatal-maria",
   "metadata": {
    "id": "fatal-maria",
    "papermill": {
     "duration": 0.068156,
     "end_time": "2021-04-10T14:13:37.889480",
     "exception": false,
     "start_time": "2021-04-10T14:13:37.821324",
     "status": "completed"
    },
    "tags": []
   },
   "source": [
    "<ol>    \n",
    "    <li style = \"color:darkred;font-weight:bold\" > <p style = \"color:black;font-weight:400\" > <strong> age : </strong> the age of the person with heart failure </p> </li>  \n",
    "    <li style = \"color:darkred;font-weight:bold\" > <p style = \"color:black;font-weight:400\" > <strong> anaemia : </strong> Decrease of red blood cells or hemoglobin (boolean) </p> </li>\n",
    "    <li style = \"color:darkred;font-weight:bold\" > <p style = \"color:black;font-weight:400\" > <strong> creatinine_phosphokinase : </strong> Level of the CPK enzyme in the blood (mcg/L) </p> </li>  \n",
    "    <li style = \"color:darkred;font-weight:bold\" > <p style = \"color:black;font-weight:400\" > <strong> diabetes : </strong> If the patient has diabetes (boolean) </p> </li>\n",
    "    <li style = \"color:darkred;font-weight:bold\" > <p style = \"color:black;font-weight:400\" > <strong> ejection_fraction : </strong> Percentage of blood leaving the heart at each contraction (percentage) </p> </li>  \n",
    "    <li style = \"color:darkred;font-weight:bold\" > <p style = \"color:black;font-weight:400\" > <strong> high_blood_pressure  : </strong> If the patient has hypertension (boolean) </p> </li>\n",
    "    <li style = \"color:darkred;font-weight:bold\" > <p style = \"color:black;font-weight:400\" > <strong> platelets : </strong> Platelets in the blood (kiloplatelets/mL) </p> </li>  \n",
    "    <li style = \"color:darkred;font-weight:bold\" > <p style = \"color:black;font-weight:400\" > <strong> serum_creatinine : </strong> Level of serum creatinine in the blood (mg/dL) </p> </li>\n",
    "    <li style = \"color:darkred;font-weight:bold\" > <p style = \"color:black;font-weight:400\" > <strong> serum_sodium : </strong>Level of serum sodium in the blood (mEq/L) </p> </li>\n",
    "    <li style = \"color:darkred;font-weight:bold\" > <p style = \"color:black;font-weight:400\" > <strong> sex : </strong> Woman or man (binary) </p> </li>\n",
    "    <li style = \"color:darkred;font-weight:bold\" > <p style = \"color:black;font-weight:400\" > <strong> smoking : </strong> If the patient smokes or not (boolean) </p> </li>\n",
    "    <li style = \"color:darkred;font-weight:bold\" > <p style = \"color:black;font-weight:400\" > <strong> time : </strong> Follow-up period (days) </p> </li>\n",
    "    <li style = \"color:darkred;font-weight:bold\" > <p style = \"color:black;font-weight:400\" > <strong> DEATH_EVENT : </strong> If the patient deceased during the follow-up period (boolean) </p> </li>\n",
    "</ol>"
   ]
  },
  {
   "cell_type": "code",
   "execution_count": null,
   "id": "dense-fabric",
   "metadata": {
    "colab": {
     "base_uri": "https://localhost:8080/"
    },
    "execution": {
     "iopub.execute_input": "2021-04-10T14:13:38.037860Z",
     "iopub.status.busy": "2021-04-10T14:13:38.036991Z",
     "iopub.status.idle": "2021-04-10T14:13:38.048729Z",
     "shell.execute_reply": "2021-04-10T14:13:38.049315Z"
    },
    "id": "dense-fabric",
    "outputId": "2bc872ba-b959-4f21-be9d-cac62d129712",
    "papermill": {
     "duration": 0.091137,
     "end_time": "2021-04-10T14:13:38.049493",
     "exception": false,
     "start_time": "2021-04-10T14:13:37.958356",
     "status": "completed"
    },
    "tags": []
   },
   "outputs": [],
   "source": [
    "data.info()"
   ]
  },
  {
   "cell_type": "markdown",
   "id": "hawaiian-solution",
   "metadata": {
    "id": "hawaiian-solution",
    "papermill": {
     "duration": 0.068501,
     "end_time": "2021-04-10T14:13:38.189616",
     "exception": false,
     "start_time": "2021-04-10T14:13:38.121115",
     "status": "completed"
    },
    "tags": []
   },
   "source": [
    "<ul>    \n",
    "    <li style = \"color:darkred;font-weight:bold\" > <p style = \"color:black;font-weight:400\" > <strong> float64 : </strong> age, platelets, serum_creatinine</p> </li> \n",
    "    <li style = \"color:darkred;font-weight:bold\" > <p style = \"color:black;font-weight:400\" > <strong> int64 : </strong> We see that all our remaining columns are int.</p> </li>\n",
    "</ul>"
   ]
  },
  {
   "cell_type": "markdown",
   "id": "valid-swiss",
   "metadata": {
    "id": "valid-swiss",
    "papermill": {
     "duration": 0.068759,
     "end_time": "2021-04-10T14:13:38.326626",
     "exception": false,
     "start_time": "2021-04-10T14:13:38.257867",
     "status": "completed"
    },
    "tags": []
   },
   "source": [
    "<a id = \"3\"></a>\n",
    "<h2 style = \"background:yellow;color:blue;border:0;border-radius:3px;font-family:verdana\">Univariate Variable Analysis </h2>\n",
    "\n",
    "<ul>    \n",
    "    <li style = \"color:darkred;font-weight:bold\" > <p style = \"color:black;font-weight:400\" > <strong> We see that our data consists of float and int columns. But there are some striking columns here. We see that these are categorical. We will examine these columns.  </strong>  </p>\n",
    "        <ul>\n",
    "            <li style = \"color:gray\"> <p style = \"color:black\"> Numerical Variable </p> </li>\n",
    "            <li style = \"color:gray\"> <p style = \"color:black\"> Categorical Variable </p> </li>\n",
    "        </ul>\n",
    "    </li> \n",
    "</ul>"
   ]
  },
  {
   "cell_type": "markdown",
   "id": "unnecessary-computer",
   "metadata": {
    "id": "unnecessary-computer",
    "papermill": {
     "duration": 0.070865,
     "end_time": "2021-04-10T14:13:38.467475",
     "exception": false,
     "start_time": "2021-04-10T14:13:38.396610",
     "status": "completed"
    },
    "tags": []
   },
   "source": [
    "<a id = \"4\"></a>\n",
    "<h3 style = \"background:blue;color:white;border:0;border-radius:3px;font-family:verdana\">Numerical Variable </h3>"
   ]
  },
  {
   "cell_type": "code",
   "execution_count": null,
   "id": "existing-vitamin",
   "metadata": {
    "execution": {
     "iopub.execute_input": "2021-04-10T14:13:38.610410Z",
     "iopub.status.busy": "2021-04-10T14:13:38.609442Z",
     "iopub.status.idle": "2021-04-10T14:13:38.617710Z",
     "shell.execute_reply": "2021-04-10T14:13:38.617012Z"
    },
    "id": "existing-vitamin",
    "papermill": {
     "duration": 0.079779,
     "end_time": "2021-04-10T14:13:38.617878",
     "exception": false,
     "start_time": "2021-04-10T14:13:38.538099",
     "status": "completed"
    },
    "tags": []
   },
   "outputs": [],
   "source": [
    "def plot_hist(variable):\n",
    "    print(\"min {} : {} \".format(variable, min(data[variable])))\n",
    "    print(\"max {} : {}\".format(variable, max(data[variable])))\n",
    "    \n",
    "    plt.figure(figsize=(9,3))\n",
    "    plt.hist(data[variable], color=\"darkred\")\n",
    "    plt.xlabel(variable)\n",
    "    plt.ylabel(\"Occurences\")\n",
    "    plt.title(\"{} distribution with histogram \".format(variable))\n",
    "    plt.show()"
   ]
  },
  {
   "cell_type": "code",
   "execution_count": null,
   "id": "occupational-valley",
   "metadata": {
    "colab": {
     "base_uri": "https://localhost:8080/",
     "height": 1000
    },
    "execution": {
     "iopub.execute_input": "2021-04-10T14:13:38.764989Z",
     "iopub.status.busy": "2021-04-10T14:13:38.764258Z",
     "iopub.status.idle": "2021-04-10T14:13:40.109976Z",
     "shell.execute_reply": "2021-04-10T14:13:40.109282Z"
    },
    "id": "occupational-valley",
    "outputId": "bbe7b75f-1b31-442f-dd0f-b3fd5dd65ebd",
    "papermill": {
     "duration": 1.419397,
     "end_time": "2021-04-10T14:13:40.110150",
     "exception": false,
     "start_time": "2021-04-10T14:13:38.690753",
     "status": "completed"
    },
    "tags": []
   },
   "outputs": [],
   "source": [
    "numericVar = [\"age\",\"creatinine_phosphokinase\",\"ejection_fraction\",\"platelets\",\"serum_creatinine\",\"serum_sodium\",\"time\"]\n",
    "for n in numericVar:\n",
    "    plot_hist(n)"
   ]
  },
  {
   "cell_type": "markdown",
   "id": "obvious-transsexual",
   "metadata": {
    "id": "obvious-transsexual",
    "papermill": {
     "duration": 0.075709,
     "end_time": "2021-04-10T14:13:40.263843",
     "exception": false,
     "start_time": "2021-04-10T14:13:40.188134",
     "status": "completed"
    },
    "tags": []
   },
   "source": [
    "<a id = \"5\"></a>\n",
    "<h3 style = \"background:blue;color:white;border:0;border-radius:3px;font-family:verdana\">Categorical Variable </h3>"
   ]
  },
  {
   "cell_type": "code",
   "execution_count": null,
   "id": "interested-wichita",
   "metadata": {
    "execution": {
     "iopub.execute_input": "2021-04-10T14:13:40.424906Z",
     "iopub.status.busy": "2021-04-10T14:13:40.423831Z",
     "iopub.status.idle": "2021-04-10T14:13:40.427828Z",
     "shell.execute_reply": "2021-04-10T14:13:40.428402Z"
    },
    "id": "interested-wichita",
    "papermill": {
     "duration": 0.088321,
     "end_time": "2021-04-10T14:13:40.428636",
     "exception": false,
     "start_time": "2021-04-10T14:13:40.340315",
     "status": "completed"
    },
    "tags": []
   },
   "outputs": [],
   "source": [
    "def bar_plot(variable):\n",
    "    \n",
    "    # get feature\n",
    "    var = data[variable]\n",
    "    #count number of categorical variable (value/sample)\n",
    "    varValue = var.value_counts()\n",
    "\n",
    "    #visualize\n",
    "    plt.figure(figsize=(9,3))\n",
    "    plt.bar(varValue.index, varValue,color = \"lightgreen\", edgecolor = \"black\", linewidth = 2)\n",
    "    plt.xticks(varValue.index, varValue.index.values)\n",
    "    plt.ylabel(\"Number of Patients\")\n",
    "    plt.title(variable)\n",
    "    plt.show()\n",
    "    print(\"{}: \\n {}\".format(variable,varValue))"
   ]
  },
  {
   "cell_type": "code",
   "execution_count": null,
   "id": "turkish-justice",
   "metadata": {
    "colab": {
     "base_uri": "https://localhost:8080/",
     "height": 1000
    },
    "execution": {
     "iopub.execute_input": "2021-04-10T14:13:40.613898Z",
     "iopub.status.busy": "2021-04-10T14:13:40.612832Z",
     "iopub.status.idle": "2021-04-10T14:13:41.340611Z",
     "shell.execute_reply": "2021-04-10T14:13:41.339912Z"
    },
    "id": "turkish-justice",
    "outputId": "13ef6bf1-4bc2-493c-8cf1-f0dd338444cd",
    "papermill": {
     "duration": 0.834082,
     "end_time": "2021-04-10T14:13:41.340758",
     "exception": false,
     "start_time": "2021-04-10T14:13:40.506676",
     "status": "completed"
    },
    "tags": []
   },
   "outputs": [],
   "source": [
    "category = [\"anaemia\",\"diabetes\",\"high_blood_pressure\",\"sex\",\"smoking\"]\n",
    "for c in category:\n",
    "    bar_plot(c)"
   ]
  },
  {
   "cell_type": "markdown",
   "id": "inclusive-organ",
   "metadata": {
    "id": "inclusive-organ",
    "papermill": {
     "duration": 0.084744,
     "end_time": "2021-04-10T14:13:41.512896",
     "exception": false,
     "start_time": "2021-04-10T14:13:41.428152",
     "status": "completed"
    },
    "tags": []
   },
   "source": [
    "<a id = \"6\"></a>\n",
    "<h2 style = \"background:yellow;color:blue;border:0;border-radius:3px;font-family:verdana\">Exploratory Data Analysis (EDA) </h2>"
   ]
  },
  {
   "cell_type": "code",
   "execution_count": null,
   "id": "4eb38b58",
   "metadata": {
    "colab": {
     "base_uri": "https://localhost:8080/",
     "height": 226
    },
    "id": "4eb38b58",
    "outputId": "2ca62f67-c4c4-409c-a0dd-b8f9251138e4"
   },
   "outputs": [],
   "source": [
    "data.head()"
   ]
  },
  {
   "cell_type": "code",
   "execution_count": null,
   "id": "9bb273a1",
   "metadata": {},
   "outputs": [],
   "source": [
    "data1 = data.loc[:,data.columns!='DEATH_EVENT']\n",
    "data1.head()\n",
    "data1.info()"
   ]
  },
  {
   "cell_type": "code",
   "execution_count": null,
   "id": "middle-hawaii",
   "metadata": {
    "colab": {
     "base_uri": "https://localhost:8080/",
     "height": 742
    },
    "execution": {
     "iopub.execute_input": "2021-04-10T14:13:41.714341Z",
     "iopub.status.busy": "2021-04-10T14:13:41.711681Z",
     "iopub.status.idle": "2021-04-10T14:13:43.071364Z",
     "shell.execute_reply": "2021-04-10T14:13:43.070658Z"
    },
    "id": "middle-hawaii",
    "outputId": "ae76962f-8e29-4411-fcc1-436502fb0e8e",
    "papermill": {
     "duration": 1.472634,
     "end_time": "2021-04-10T14:13:43.071520",
     "exception": false,
     "start_time": "2021-04-10T14:13:41.598886",
     "status": "completed"
    },
    "tags": []
   },
   "outputs": [],
   "source": [
    "corr_matrix = data1.corr()\n",
    "correl = data.corr()\n",
    "sns.clustermap(corr_matrix, annot = True, fmt = \".2f\")\n",
    "plt.title(\"Correlation btw features\")\n",
    "plt.show()"
   ]
  },
  {
   "cell_type": "markdown",
   "id": "described-island",
   "metadata": {
    "id": "described-island",
    "papermill": {
     "duration": 0.085786,
     "end_time": "2021-04-10T14:13:43.246404",
     "exception": false,
     "start_time": "2021-04-10T14:13:43.160618",
     "status": "completed"
    },
    "tags": []
   },
   "source": [
    "<ul>    \n",
    "    <li style = \"color:darkred;font-weight:bold\" > <p style = \"color:black;font-weight:400\" > <strong> We have drawn the relationship matrix and examine the relationships between properties.  </strong>  </p> </li>\n",
    "    <li style = \"color:darkred;font-weight:bold\" > <p style = \"color:black;font-weight:400\" > <strong> If the relation between properties is 1 it means that it is true and -1 means it is inversely proportional.  </strong>  </p> </li> \n",
    "</ul>"
   ]
  },
  {
   "cell_type": "code",
   "execution_count": null,
   "id": "elder-attempt",
   "metadata": {
    "colab": {
     "base_uri": "https://localhost:8080/",
     "height": 742
    },
    "execution": {
     "iopub.execute_input": "2021-04-10T14:13:43.426448Z",
     "iopub.status.busy": "2021-04-10T14:13:43.425552Z",
     "iopub.status.idle": "2021-04-10T14:13:43.941733Z",
     "shell.execute_reply": "2021-04-10T14:13:43.940993Z"
    },
    "id": "elder-attempt",
    "outputId": "53f9989e-0df8-41e1-c387-4ac6cac3ad5a",
    "papermill": {
     "duration": 0.609408,
     "end_time": "2021-04-10T14:13:43.941887",
     "exception": false,
     "start_time": "2021-04-10T14:13:43.332479",
     "status": "completed"
    },
    "tags": []
   },
   "outputs": [],
   "source": [
    "threshold = 0.2 \n",
    "filtre = np.abs(correl[\"DEATH_EVENT\"]) > threshold\n",
    "corr_features = correl.columns[filtre].tolist()\n",
    "sns.clustermap(data[corr_features].corr(), annot = True, fmt = \".2f\")\n",
    "plt.title(\"Correlation Between Features w Corr Theshold 0.75\")\n",
    "plt.show()"
   ]
  },
  {
   "cell_type": "code",
   "execution_count": null,
   "id": "systematic-operations",
   "metadata": {
    "colab": {
     "base_uri": "https://localhost:8080/",
     "height": 374
    },
    "execution": {
     "iopub.execute_input": "2021-04-10T14:13:44.139422Z",
     "iopub.status.busy": "2021-04-10T14:13:44.138313Z",
     "iopub.status.idle": "2021-04-10T14:13:48.547332Z",
     "shell.execute_reply": "2021-04-10T14:13:48.547839Z"
    },
    "id": "systematic-operations",
    "outputId": "77a532e0-0b50-4ee5-c75b-3ca94a893790",
    "papermill": {
     "duration": 4.515335,
     "end_time": "2021-04-10T14:13:48.548008",
     "exception": false,
     "start_time": "2021-04-10T14:13:44.032673",
     "status": "completed"
    },
    "tags": []
   },
   "outputs": [],
   "source": [
    "#pair plot\n",
    "sns.pairplot(data[corr_features], diag_kind = \"kde\", markers = \"+\", hue = \"DEATH_EVENT\")\n",
    "plt.show()"
   ]
  },
  {
   "cell_type": "markdown",
   "id": "prime-header",
   "metadata": {
    "id": "prime-header",
    "papermill": {
     "duration": 0.11104,
     "end_time": "2021-04-10T14:13:56.520522",
     "exception": false,
     "start_time": "2021-04-10T14:13:56.409482",
     "status": "completed"
    },
    "tags": []
   },
   "source": [
    "<a id = \"10\"></a>\n",
    "<h2 style = \"background:yellow;color:blue;border:0;border-radius:3px;font-family:verdana\">Modeling </h2>"
   ]
  },
  {
   "cell_type": "markdown",
   "id": "latter-advocate",
   "metadata": {
    "id": "latter-advocate",
    "papermill": {
     "duration": 0.109099,
     "end_time": "2021-04-10T14:13:56.739822",
     "exception": false,
     "start_time": "2021-04-10T14:13:56.630723",
     "status": "completed"
    },
    "tags": []
   },
   "source": [
    "<p  style = \"color:black;font-weight:500\" > We will carry out our trainings using the models you see below. Finally, we will compare their results. </p>\n",
    "<ul>\n",
    "    <li style = \"color:darkred;font-weight:bold\" >Logistic Regression Model</li>\n",
    "    <li style = \"color:darkred;font-weight:bold\" >Decision Tree Model</li>    \n",
    "    <li style = \"color:darkred;font-weight:bold\" >RandomForest Model</li>\n",
    "    <li style = \"color:darkred;font-weight:bold\" >SVM Model</li>\n",
    "    <li style = \"color:darkred;font-weight:bold\" >XGBoost Model</li>          \n",
    "</ul>"
   ]
  },
  {
   "cell_type": "markdown",
   "id": "random-tonight",
   "metadata": {
    "id": "random-tonight",
    "papermill": {
     "duration": 0.111395,
     "end_time": "2021-04-10T14:13:58.628444",
     "exception": false,
     "start_time": "2021-04-10T14:13:58.517049",
     "status": "completed"
    },
    "tags": []
   },
   "source": [
    "<h3 style = \"background:yellow;color:blue;border:0;border-radius:3px;font-family:verdana\">Train - Test Split </h3>"
   ]
  },
  {
   "cell_type": "code",
   "execution_count": null,
   "id": "expected-equality",
   "metadata": {
    "colab": {
     "base_uri": "https://localhost:8080/",
     "height": 226
    },
    "execution": {
     "iopub.execute_input": "2021-04-10T14:13:58.859030Z",
     "iopub.status.busy": "2021-04-10T14:13:58.857941Z",
     "iopub.status.idle": "2021-04-10T14:13:58.865517Z",
     "shell.execute_reply": "2021-04-10T14:13:58.866001Z"
    },
    "id": "expected-equality",
    "outputId": "16bc11ae-7a16-4bf1-cf00-c1ba812cadf6",
    "papermill": {
     "duration": 0.125755,
     "end_time": "2021-04-10T14:13:58.866216",
     "exception": false,
     "start_time": "2021-04-10T14:13:58.740461",
     "status": "completed"
    },
    "tags": []
   },
   "outputs": [],
   "source": [
    "X = data.drop(\"DEATH_EVENT\", axis = 1)\n",
    "y = data.DEATH_EVENT\n",
    "X.head()"
   ]
  },
  {
   "cell_type": "code",
   "execution_count": null,
   "id": "258f2438",
   "metadata": {
    "id": "258f2438"
   },
   "outputs": [],
   "source": [
    "test_size = 0.2\n",
    "X_train, X_test, Y_train, Y_test = train_test_split(X, y, test_size = test_size, random_state = 42)"
   ]
  },
  {
   "cell_type": "code",
   "execution_count": null,
   "id": "perceived-extra",
   "metadata": {
    "colab": {
     "base_uri": "https://localhost:8080/"
    },
    "execution": {
     "iopub.execute_input": "2021-04-10T14:13:59.103990Z",
     "iopub.status.busy": "2021-04-10T14:13:59.103295Z",
     "iopub.status.idle": "2021-04-10T14:13:59.107796Z",
     "shell.execute_reply": "2021-04-10T14:13:59.107157Z"
    },
    "id": "perceived-extra",
    "outputId": "7d8c6300-488b-4f17-f3a7-93c8393e7963",
    "papermill": {
     "duration": 0.126499,
     "end_time": "2021-04-10T14:13:59.107939",
     "exception": false,
     "start_time": "2021-04-10T14:13:58.981440",
     "status": "completed"
    },
    "tags": []
   },
   "outputs": [],
   "source": [
    "print(\"X_train shape {}, len {}.\".format(X_train.shape,len(X_train)))\n",
    "print(\"X_test shape {}, len {}.\".format(X_test.shape,len(X_test)))\n",
    "print(\"Y_train shape {}, len {}.\".format(Y_train.shape,len(Y_train)))\n",
    "print(\"Y_test shape {}, len {}.\".format(Y_test.shape,len(Y_test)))"
   ]
  },
  {
   "cell_type": "code",
   "execution_count": null,
   "id": "mechanical-simon",
   "metadata": {
    "execution": {
     "iopub.execute_input": "2021-04-10T14:13:59.338608Z",
     "iopub.status.busy": "2021-04-10T14:13:59.337607Z",
     "iopub.status.idle": "2021-04-10T14:13:59.343317Z",
     "shell.execute_reply": "2021-04-10T14:13:59.342720Z"
    },
    "id": "mechanical-simon",
    "papermill": {
     "duration": 0.121196,
     "end_time": "2021-04-10T14:13:59.343471",
     "exception": false,
     "start_time": "2021-04-10T14:13:59.222275",
     "status": "completed"
    },
    "tags": []
   },
   "outputs": [],
   "source": [
    "# list to keep our results\n",
    "result_acc = []"
   ]
  },
  {
   "cell_type": "markdown",
   "id": "electric-reaction",
   "metadata": {
    "id": "electric-reaction",
    "papermill": {
     "duration": 0.112314,
     "end_time": "2021-04-10T14:14:01.848473",
     "exception": false,
     "start_time": "2021-04-10T14:14:01.736159",
     "status": "completed"
    },
    "tags": []
   },
   "source": [
    "<a id = \"13\"></a>\n",
    "<h3 style = \"background:yellow;color:blue;border:0;border-radius:3px;font-family:verdana\">Logistic Regression Model</h3>"
   ]
  },
  {
   "cell_type": "markdown",
   "id": "ff48652c",
   "metadata": {
    "id": "ff48652c"
   },
   "source": [
    "Input:- Training Data i.e. X_train, Y_train\n",
    "\n",
    "Output:- Accuracy\n",
    "\n",
    "Tool:- sklearn.linear_model"
   ]
  },
  {
   "cell_type": "code",
   "execution_count": null,
   "id": "anonymous-savannah",
   "metadata": {
    "colab": {
     "base_uri": "https://localhost:8080/",
     "height": 265
    },
    "execution": {
     "iopub.execute_input": "2021-04-10T14:14:02.115446Z",
     "iopub.status.busy": "2021-04-10T14:14:02.087419Z",
     "iopub.status.idle": "2021-04-10T14:14:02.277982Z",
     "shell.execute_reply": "2021-04-10T14:14:02.277037Z"
    },
    "id": "anonymous-savannah",
    "outputId": "b8f422fe-1c88-4d0b-d34e-7b7572da829e",
    "papermill": {
     "duration": 0.312557,
     "end_time": "2021-04-10T14:14:02.278135",
     "exception": false,
     "start_time": "2021-04-10T14:14:01.965578",
     "status": "completed"
    },
    "tags": []
   },
   "outputs": [],
   "source": [
    "model_log_reg = LogisticRegression(solver='lbfgs', max_iter=1000)\n",
    "model_log_reg.fit(X_train, Y_train)\n",
    "importance = model_log_reg.coef_[0]\n",
    "\n",
    "plt.bar([x for x in range(len(importance))], importance, color = \"orange\")\n",
    "plt.show()"
   ]
  },
  {
   "cell_type": "code",
   "execution_count": null,
   "id": "distant-headset",
   "metadata": {
    "execution": {
     "iopub.execute_input": "2021-04-10T14:14:02.514483Z",
     "iopub.status.busy": "2021-04-10T14:14:02.513761Z",
     "iopub.status.idle": "2021-04-10T14:14:02.517270Z",
     "shell.execute_reply": "2021-04-10T14:14:02.516726Z"
    },
    "id": "distant-headset",
    "papermill": {
     "duration": 0.124959,
     "end_time": "2021-04-10T14:14:02.517418",
     "exception": false,
     "start_time": "2021-04-10T14:14:02.392459",
     "status": "completed"
    },
    "tags": []
   },
   "outputs": [],
   "source": [
    "x_train_log_reg = X_train  #renaming training and testing set as per model\n",
    "x_test_log_reg = X_test    #renaming training and testing set as per model"
   ]
  },
  {
   "cell_type": "code",
   "execution_count": null,
   "id": "fallen-undergraduate",
   "metadata": {
    "colab": {
     "base_uri": "https://localhost:8080/",
     "height": 505
    },
    "execution": {
     "iopub.execute_input": "2021-04-10T14:14:02.772772Z",
     "iopub.status.busy": "2021-04-10T14:14:02.755324Z",
     "iopub.status.idle": "2021-04-10T14:14:02.778644Z",
     "shell.execute_reply": "2021-04-10T14:14:02.778064Z"
    },
    "id": "fallen-undergraduate",
    "outputId": "d9019b24-516a-4cc5-d967-b5c655c4207d",
    "papermill": {
     "duration": 0.146509,
     "end_time": "2021-04-10T14:14:02.778811",
     "exception": false,
     "start_time": "2021-04-10T14:14:02.632302",
     "status": "completed"
    },
    "tags": []
   },
   "outputs": [],
   "source": [
    "log_reg = LogisticRegression()\n",
    "log_reg.fit(x_train_log_reg, Y_train)\n",
    "y_pred_log = log_reg.predict(x_test_log_reg)\n",
    "cm_log_reg = confusion_matrix(y_pred_log, Y_test)\n",
    "acc_log_reg = accuracy_score(Y_test, y_pred_log)\n",
    "result_acc.append(round(acc_log_reg*100,2))\n",
    "print(\"RESULT\")\n",
    "print(\"Logistic Regression Model Acc : \",acc_log_reg)\n",
    "print(\"Logistic Regression Model Cm : \",cm_log_reg)\n",
    "plot_confusion_matrix(log_reg,x_test_log_reg,Y_test)"
   ]
  },
  {
   "cell_type": "markdown",
   "id": "related-coordinator",
   "metadata": {
    "id": "related-coordinator",
    "papermill": {
     "duration": 0.116657,
     "end_time": "2021-04-10T14:14:03.010762",
     "exception": false,
     "start_time": "2021-04-10T14:14:02.894105",
     "status": "completed"
    },
    "tags": []
   },
   "source": [
    "<a id = \"14\"></a>\n",
    "<h3 style = \"background:yellow;color:blue;border:0;border-radius:3px;font-family:verdana\">DecisionTree Model</h3>"
   ]
  },
  {
   "cell_type": "markdown",
   "id": "85247c8f",
   "metadata": {
    "id": "85247c8f"
   },
   "source": [
    "Input:- Training Data i.e. X_train, Y_train\n",
    "\n",
    "Output:- Accuracy\n",
    "\n",
    "Tool:- sklearn.tree"
   ]
  },
  {
   "cell_type": "code",
   "execution_count": null,
   "id": "arranged-possible",
   "metadata": {
    "colab": {
     "base_uri": "https://localhost:8080/",
     "height": 265
    },
    "execution": {
     "iopub.execute_input": "2021-04-10T14:14:03.249772Z",
     "iopub.status.busy": "2021-04-10T14:14:03.249068Z",
     "iopub.status.idle": "2021-04-10T14:14:03.392665Z",
     "shell.execute_reply": "2021-04-10T14:14:03.393126Z"
    },
    "id": "arranged-possible",
    "outputId": "518d037e-41f0-4ec8-c1d5-f84aacb5acf7",
    "papermill": {
     "duration": 0.267702,
     "end_time": "2021-04-10T14:14:03.393321",
     "exception": false,
     "start_time": "2021-04-10T14:14:03.125619",
     "status": "completed"
    },
    "tags": []
   },
   "outputs": [],
   "source": [
    "model_decision_tree = DecisionTreeClassifier()\n",
    "model_decision_tree.fit(X_train, Y_train)\n",
    "importance = model_decision_tree.feature_importances_\n",
    "\n",
    "plt.bar([x for x in range(len(importance))], importance, color = \"blue\")\n",
    "plt.show()"
   ]
  },
  {
   "cell_type": "code",
   "execution_count": null,
   "id": "worth-exemption",
   "metadata": {
    "execution": {
     "iopub.execute_input": "2021-04-10T14:14:03.635084Z",
     "iopub.status.busy": "2021-04-10T14:14:03.634425Z",
     "iopub.status.idle": "2021-04-10T14:14:03.637940Z",
     "shell.execute_reply": "2021-04-10T14:14:03.637291Z"
    },
    "id": "worth-exemption",
    "papermill": {
     "duration": 0.128905,
     "end_time": "2021-04-10T14:14:03.638082",
     "exception": false,
     "start_time": "2021-04-10T14:14:03.509177",
     "status": "completed"
    },
    "tags": []
   },
   "outputs": [],
   "source": [
    "x_train_dec = X_train  #renaming training and testing set as per model\n",
    "x_test_dec = X_test    #renaming training and testing set as per model"
   ]
  },
  {
   "cell_type": "code",
   "execution_count": null,
   "id": "korean-contractor",
   "metadata": {
    "colab": {
     "base_uri": "https://localhost:8080/",
     "height": 435
    },
    "execution": {
     "iopub.execute_input": "2021-04-10T14:14:03.888534Z",
     "iopub.status.busy": "2021-04-10T14:14:03.887821Z",
     "iopub.status.idle": "2021-04-10T14:14:18.658036Z",
     "shell.execute_reply": "2021-04-10T14:14:18.657411Z"
    },
    "id": "korean-contractor",
    "outputId": "cab5556f-f226-420d-fce1-9050254f6e23",
    "papermill": {
     "duration": 14.903864,
     "end_time": "2021-04-10T14:14:18.658230",
     "exception": false,
     "start_time": "2021-04-10T14:14:03.754366",
     "status": "completed"
    },
    "tags": []
   },
   "outputs": [],
   "source": [
    "dt_param_grid = {\"min_samples_split\" : range(10,500,20),\n",
    "                \"max_depth\": range(1,20)}\n",
    "\n",
    "decision_tree = DecisionTreeClassifier()\n",
    "clf = GridSearchCV(decision_tree, param_grid=dt_param_grid, cv = StratifiedKFold(n_splits = 10), scoring = \"accuracy\", n_jobs = -1,verbose = 1)\n",
    "clf.fit(x_train_dec,Y_train)\n",
    "\n",
    "y_pred_decision_tree = clf.predict(x_test_dec)\n",
    "cm_y_pred_decision_tree = confusion_matrix(Y_test, y_pred_decision_tree)\n",
    "acc_y_pred_decision_tree = accuracy_score(Y_test, y_pred_decision_tree)\n",
    "result_acc.append(round(acc_y_pred_decision_tree*100,2))\n",
    "print(\"RESULT\")\n",
    "print(\"Decision Tree Model Acc : \",acc_y_pred_decision_tree)\n",
    "print(\"Decision Tree Model Cm : \",cm_y_pred_decision_tree)\n",
    "plot_confusion_matrix(clf,x_test_dec,Y_test)"
   ]
  },
  {
   "cell_type": "markdown",
   "id": "fatal-finger",
   "metadata": {
    "id": "fatal-finger",
    "papermill": {
     "duration": 0.113931,
     "end_time": "2021-04-10T14:14:00.096872",
     "exception": false,
     "start_time": "2021-04-10T14:13:59.982941",
     "status": "completed"
    },
    "tags": []
   },
   "source": [
    "<a id = \"12\"></a>\n",
    "<h3 style = \"background:yellow;color:blue;border:0;border-radius:3px;font-family:verdana\">Random Forest Model</h3>"
   ]
  },
  {
   "cell_type": "markdown",
   "id": "fb6685d7",
   "metadata": {
    "id": "fb6685d7"
   },
   "source": [
    "Input:- Training Data i.e. X_train, Y_train\n",
    "\n",
    "Output:- Accuracy\n",
    "\n",
    "Tool:- sklearn.ensemble"
   ]
  },
  {
   "cell_type": "markdown",
   "id": "otherwise-contamination",
   "metadata": {
    "id": "otherwise-contamination",
    "papermill": {
     "duration": 0.111545,
     "end_time": "2021-04-10T14:14:00.321640",
     "exception": false,
     "start_time": "2021-04-10T14:14:00.210095",
     "status": "completed"
    },
    "tags": []
   },
   "source": [
    "<ul>\n",
    "        <li style = \"color:darkred;font-weight:bold\" > <p style = \"color:black;font-weight:400\" > <strong> First of all, we will find our important features for that model and we will use them. </strong> </p> </li>\n",
    "            <li style = \"color:darkred;font-weight:bold\" > <p style = \"color:black;font-weight:400\" > <strong> we will do this for all other models too. </strong> </p> </li>\n",
    "</ul>"
   ]
  },
  {
   "cell_type": "code",
   "execution_count": null,
   "id": "accurate-motorcycle",
   "metadata": {
    "colab": {
     "base_uri": "https://localhost:8080/",
     "height": 265
    },
    "execution": {
     "iopub.execute_input": "2021-04-10T14:14:00.584810Z",
     "iopub.status.busy": "2021-04-10T14:14:00.563697Z",
     "iopub.status.idle": "2021-04-10T14:14:00.929273Z",
     "shell.execute_reply": "2021-04-10T14:14:00.928706Z"
    },
    "id": "accurate-motorcycle",
    "outputId": "cebeb9d1-0832-4667-bf88-ad69bcc567a4",
    "papermill": {
     "duration": 0.495962,
     "end_time": "2021-04-10T14:14:00.929424",
     "exception": false,
     "start_time": "2021-04-10T14:14:00.433462",
     "status": "completed"
    },
    "tags": []
   },
   "outputs": [],
   "source": [
    "model_rnd = RandomForestClassifier()\n",
    "model_rnd.fit(X_train, Y_train)\n",
    "importance = model_rnd.feature_importances_\n",
    "\n",
    "# plot feature importance\n",
    "plt.bar([x for x in range(len(importance))], importance, color = \"red\")\n",
    "plt.show()"
   ]
  },
  {
   "cell_type": "code",
   "execution_count": null,
   "id": "considered-magic",
   "metadata": {
    "execution": {
     "iopub.execute_input": "2021-04-10T14:14:01.163695Z",
     "iopub.status.busy": "2021-04-10T14:14:01.162630Z",
     "iopub.status.idle": "2021-04-10T14:14:01.166848Z",
     "shell.execute_reply": "2021-04-10T14:14:01.166283Z"
    },
    "id": "considered-magic",
    "papermill": {
     "duration": 0.125032,
     "end_time": "2021-04-10T14:14:01.166994",
     "exception": false,
     "start_time": "2021-04-10T14:14:01.041962",
     "status": "completed"
    },
    "tags": []
   },
   "outputs": [],
   "source": [
    "x_train_random_forest = X_train  #renaming training and testing set as per model\n",
    "x_test_random_forest = X_test    #renaming training and testing set as per model"
   ]
  },
  {
   "cell_type": "code",
   "execution_count": null,
   "id": "thorough-banner",
   "metadata": {
    "colab": {
     "base_uri": "https://localhost:8080/",
     "height": 366
    },
    "execution": {
     "iopub.execute_input": "2021-04-10T14:14:01.448801Z",
     "iopub.status.busy": "2021-04-10T14:14:01.412411Z",
     "iopub.status.idle": "2021-04-10T14:14:01.621793Z",
     "shell.execute_reply": "2021-04-10T14:14:01.622334Z"
    },
    "id": "thorough-banner",
    "outputId": "b70fbc86-5d80-442b-8a42-7856979b7c12",
    "papermill": {
     "duration": 0.340983,
     "end_time": "2021-04-10T14:14:01.622543",
     "exception": false,
     "start_time": "2021-04-10T14:14:01.281560",
     "status": "completed"
    },
    "tags": []
   },
   "outputs": [],
   "source": [
    "random_forest_model = RandomForestClassifier(max_depth=7, random_state=25)\n",
    "random_forest_model.fit(x_train_random_forest, Y_train)\n",
    "y_pred_random_forest = random_forest_model.predict(x_test_random_forest)\n",
    "cm_random_forest = confusion_matrix(y_pred_random_forest, Y_test)\n",
    "acc_random_forest = accuracy_score(Y_test, y_pred_random_forest)\n",
    "result_acc.append(round(acc_random_forest*100,2))\n",
    "print(\"RESULT\")\n",
    "print(\"Random Forest Model Acc : \",acc_random_forest)\n",
    "print(\"Random Forest Model Cm : \",cm_random_forest)\n",
    "plot_confusion_matrix(random_forest_model,x_test_random_forest,Y_test)"
   ]
  },
  {
   "cell_type": "markdown",
   "id": "decent-running",
   "metadata": {
    "id": "decent-running",
    "papermill": {
     "duration": 0.119266,
     "end_time": "2021-04-10T14:14:18.897021",
     "exception": false,
     "start_time": "2021-04-10T14:14:18.777755",
     "status": "completed"
    },
    "tags": []
   },
   "source": [
    "<a id = \"15\"></a>\n",
    "<h3 style = \"background:yellow;color:blue;border:0;border-radius:3px;font-family:verdana\">SVM Model</h3>"
   ]
  },
  {
   "cell_type": "markdown",
   "id": "5755d024",
   "metadata": {
    "id": "5755d024"
   },
   "source": [
    "Input:- Training Data i.e. X_train, Y_train\n",
    "\n",
    "Output:- Accuracy\n",
    "\n",
    "Tool:- sklearn.svm"
   ]
  },
  {
   "cell_type": "code",
   "execution_count": null,
   "id": "daily-colon",
   "metadata": {
    "colab": {
     "base_uri": "https://localhost:8080/",
     "height": 265
    },
    "execution": {
     "iopub.execute_input": "2021-04-10T14:14:19.143919Z",
     "iopub.status.busy": "2021-04-10T14:14:19.143150Z",
     "iopub.status.idle": "2021-04-10T14:14:22.381859Z",
     "shell.execute_reply": "2021-04-10T14:14:22.381310Z"
    },
    "id": "daily-colon",
    "outputId": "f922e921-5195-4bd6-9e39-eb03f6f98061",
    "papermill": {
     "duration": 3.365974,
     "end_time": "2021-04-10T14:14:22.382008",
     "exception": false,
     "start_time": "2021-04-10T14:14:19.016034",
     "status": "completed"
    },
    "tags": []
   },
   "outputs": [],
   "source": [
    "sc = StandardScaler()\n",
    "X_training = sc.fit_transform(X_train)\n",
    "model_svm = SVC(kernel=\"linear\")\n",
    "model_svm.fit(X_training, Y_train)\n",
    "importance = model_svm.coef_[0]\n",
    "\n",
    "plt.bar([x for x in range(len(importance))], importance, color = \"brown\")\n",
    "plt.show()"
   ]
  },
  {
   "cell_type": "code",
   "execution_count": null,
   "id": "suited-trailer",
   "metadata": {
    "execution": {
     "iopub.execute_input": "2021-04-10T14:14:22.628889Z",
     "iopub.status.busy": "2021-04-10T14:14:22.628051Z",
     "iopub.status.idle": "2021-04-10T14:14:22.631456Z",
     "shell.execute_reply": "2021-04-10T14:14:22.630900Z"
    },
    "id": "suited-trailer",
    "papermill": {
     "duration": 0.129914,
     "end_time": "2021-04-10T14:14:22.631608",
     "exception": false,
     "start_time": "2021-04-10T14:14:22.501694",
     "status": "completed"
    },
    "tags": []
   },
   "outputs": [],
   "source": [
    "x_train_svm = X_train  #renaming training and testing set as per model\n",
    "x_test_svm = X_test    #renaming training and testing set as per model"
   ]
  },
  {
   "cell_type": "code",
   "execution_count": null,
   "id": "little-jackson",
   "metadata": {
    "colab": {
     "base_uri": "https://localhost:8080/",
     "height": 366
    },
    "execution": {
     "iopub.execute_input": "2021-04-10T14:14:22.885746Z",
     "iopub.status.busy": "2021-04-10T14:14:22.884664Z",
     "iopub.status.idle": "2021-04-10T14:14:22.901290Z",
     "shell.execute_reply": "2021-04-10T14:14:22.901942Z"
    },
    "id": "little-jackson",
    "outputId": "162eaaba-f1d1-4937-a79d-27248db02920",
    "papermill": {
     "duration": 0.148677,
     "end_time": "2021-04-10T14:14:22.902116",
     "exception": false,
     "start_time": "2021-04-10T14:14:22.753439",
     "status": "completed"
    },
    "tags": []
   },
   "outputs": [],
   "source": [
    "svm = SVC()\n",
    "svm.fit(x_train_svm, Y_train)\n",
    "y_pred_svm = svm.predict(x_test_svm)\n",
    "cm_svm = confusion_matrix(y_pred_svm, Y_test)\n",
    "acc_svm = accuracy_score(Y_test, y_pred_svm)\n",
    "result_acc.append(round(acc_svm*100,2))\n",
    "print(\"RESULT\")\n",
    "print(\"SVM Model Acc : \",acc_svm)\n",
    "print(\"SVM Model Cm : \",cm_svm)\n",
    "plot_confusion_matrix(svm,x_test_svm,Y_test)"
   ]
  },
  {
   "cell_type": "markdown",
   "id": "dental-thirty",
   "metadata": {
    "id": "dental-thirty",
    "papermill": {
     "duration": 0.112194,
     "end_time": "2021-04-10T14:13:59.570443",
     "exception": false,
     "start_time": "2021-04-10T14:13:59.458249",
     "status": "completed"
    },
    "tags": []
   },
   "source": [
    "<a id = \"11\"></a>\n",
    "<h3 style = \"background:yellow;color:blue;border:0;border-radius:3px;font-family:verdana\">XGBoost model </h3>"
   ]
  },
  {
   "cell_type": "markdown",
   "id": "d7bc6591",
   "metadata": {
    "id": "d7bc6591"
   },
   "source": [
    "Input:- Training Data i.e. X_train, Y_train\n",
    "\n",
    "Output:- Accuracy\n",
    "\n",
    "Tool:- xgboost"
   ]
  },
  {
   "cell_type": "code",
   "execution_count": null,
   "id": "chicken-buffer",
   "metadata": {
    "colab": {
     "base_uri": "https://localhost:8080/",
     "height": 366
    },
    "execution": {
     "iopub.execute_input": "2021-04-10T14:13:59.805938Z",
     "iopub.status.busy": "2021-04-10T14:13:59.805168Z",
     "iopub.status.idle": "2021-04-10T14:13:59.867362Z",
     "shell.execute_reply": "2021-04-10T14:13:59.868582Z"
    },
    "id": "chicken-buffer",
    "outputId": "09226969-f408-4284-be1c-5303f5c06136",
    "papermill": {
     "duration": 0.184795,
     "end_time": "2021-04-10T14:13:59.868815",
     "exception": false,
     "start_time": "2021-04-10T14:13:59.684020",
     "status": "completed"
    },
    "tags": []
   },
   "outputs": [],
   "source": [
    "XGB = XGBClassifier(max_depth = 1,eval_metric='mlogloss')\n",
    "XGB.fit(X_train, Y_train)\n",
    "y_pred_xgb = XGB.predict(X_test)\n",
    "cm_xgb = confusion_matrix(y_pred_xgb, Y_test)\n",
    "acc_xgb = accuracy_score(Y_test, y_pred_xgb) \n",
    "result_acc.append(round(acc_xgb*100,2))\n",
    "print(\"RESULT:\",result_acc)\n",
    "print(\"XGBoost Model Acc : \",acc_xgb)\n",
    "print(\"XGBoost Model Cm : \",cm_xgb)\n",
    "plot_confusion_matrix(XGB,X_test,Y_test)"
   ]
  },
  {
   "cell_type": "markdown",
   "id": "deluxe-wilson",
   "metadata": {
    "id": "deluxe-wilson",
    "papermill": {
     "duration": 0.145337,
     "end_time": "2021-04-10T14:14:24.019402",
     "exception": false,
     "start_time": "2021-04-10T14:14:23.874065",
     "status": "completed"
    },
    "tags": []
   },
   "source": [
    "<a id = \"17\"></a>\n",
    "<h2 style = \"background:yellow;color:blue;border:0;border-radius:3px;font-family:verdana\">Model Result</h2>"
   ]
  },
  {
   "cell_type": "code",
   "execution_count": null,
   "id": "welcome-order",
   "metadata": {
    "execution": {
     "iopub.execute_input": "2021-04-10T14:14:24.316632Z",
     "iopub.status.busy": "2021-04-10T14:14:24.315924Z",
     "iopub.status.idle": "2021-04-10T14:14:24.321850Z",
     "shell.execute_reply": "2021-04-10T14:14:24.321099Z"
    },
    "id": "welcome-order",
    "papermill": {
     "duration": 0.159155,
     "end_time": "2021-04-10T14:14:24.322009",
     "exception": false,
     "start_time": "2021-04-10T14:14:24.162854",
     "status": "completed"
    },
    "tags": []
   },
   "outputs": [],
   "source": [
    "results = pd.DataFrame({\"Model Result\":result_acc, \n",
    "                        \"Models\":[\"LogisticRegression\",\n",
    "                                  \"DecisionTree\",\n",
    "                                  \"RandomForest\",\n",
    "                                  \"SVM\",\n",
    "                                  \"XGBoost\"]})"
   ]
  },
  {
   "cell_type": "code",
   "execution_count": null,
   "id": "anticipated-moses",
   "metadata": {
    "colab": {
     "base_uri": "https://localhost:8080/",
     "height": 206
    },
    "execution": {
     "iopub.execute_input": "2021-04-10T14:14:24.623911Z",
     "iopub.status.busy": "2021-04-10T14:14:24.622902Z",
     "iopub.status.idle": "2021-04-10T14:14:24.628358Z",
     "shell.execute_reply": "2021-04-10T14:14:24.627803Z"
    },
    "id": "anticipated-moses",
    "outputId": "5b34ee4b-8c5d-4138-8698-67b38fdf1ee2",
    "papermill": {
     "duration": 0.159038,
     "end_time": "2021-04-10T14:14:24.628499",
     "exception": false,
     "start_time": "2021-04-10T14:14:24.469461",
     "status": "completed"
    },
    "tags": []
   },
   "outputs": [],
   "source": [
    "results"
   ]
  },
  {
   "cell_type": "code",
   "execution_count": null,
   "id": "pretty-mauritius",
   "metadata": {
    "colab": {
     "base_uri": "https://localhost:8080/",
     "height": 295
    },
    "execution": {
     "iopub.execute_input": "2021-04-10T14:14:24.956131Z",
     "iopub.status.busy": "2021-04-10T14:14:24.951103Z",
     "iopub.status.idle": "2021-04-10T14:14:25.093133Z",
     "shell.execute_reply": "2021-04-10T14:14:25.092401Z"
    },
    "id": "pretty-mauritius",
    "outputId": "5e0ad069-8d9d-4d2b-ed9b-5d0c2f403ca7",
    "papermill": {
     "duration": 0.317979,
     "end_time": "2021-04-10T14:14:25.093311",
     "exception": false,
     "start_time": "2021-04-10T14:14:24.775332",
     "status": "completed"
    },
    "tags": []
   },
   "outputs": [],
   "source": [
    "g = sns.barplot(\"Model Result\", \"Models\", data = results)\n",
    "g.set_xlabel(\"Accuracy\")\n",
    "g.set_title(\"Models Result\", color = \"darkred\")\n",
    "plt.show()"
   ]
  },
  {
   "cell_type": "markdown",
   "id": "liked-tutorial",
   "metadata": {
    "id": "liked-tutorial",
    "papermill": {
     "duration": 0.144834,
     "end_time": "2021-04-10T14:14:25.384383",
     "exception": false,
     "start_time": "2021-04-10T14:14:25.239549",
     "status": "completed"
    },
    "tags": []
   },
   "source": [
    "<ul>\n",
    "    <li style = \"color:darkred;font-weight:bold\" > <p style = \"color:black;font-weight:400\" > <strong> Yes, we have come to an end. As you can see, our biggest success with decision tree is 95.2 </strong> </p> </li>\n",
    "</ul>"
   ]
  },
  {
   "cell_type": "code",
   "execution_count": null,
   "id": "massive-puzzle",
   "metadata": {
    "id": "massive-puzzle",
    "papermill": {
     "duration": 0.145117,
     "end_time": "2021-04-10T14:14:25.675803",
     "exception": false,
     "start_time": "2021-04-10T14:14:25.530686",
     "status": "completed"
    },
    "tags": []
   },
   "outputs": [],
   "source": []
  }
 ],
 "metadata": {
  "colab": {
   "collapsed_sections": [],
   "name": "mortality_detection_due_to_heart_failure.ipynb",
   "provenance": []
  },
  "kernelspec": {
   "display_name": "Python 3",
   "language": "python",
   "name": "python3"
  },
  "language_info": {
   "codemirror_mode": {
    "name": "ipython",
    "version": 3
   },
   "file_extension": ".py",
   "mimetype": "text/x-python",
   "name": "python",
   "nbconvert_exporter": "python",
   "pygments_lexer": "ipython3",
   "version": "3.8.8"
  },
  "papermill": {
   "default_parameters": {},
   "duration": 59.889579,
   "end_time": "2021-04-10T14:14:26.935901",
   "environment_variables": {},
   "exception": null,
   "input_path": "__notebook__.ipynb",
   "output_path": "__notebook__.ipynb",
   "parameters": {},
   "start_time": "2021-04-10T14:13:27.046322",
   "version": "2.3.2"
  }
 },
 "nbformat": 4,
 "nbformat_minor": 5
}
